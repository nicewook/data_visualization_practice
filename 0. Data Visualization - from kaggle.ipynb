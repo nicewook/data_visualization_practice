{
 "cells": [
  {
   "cell_type": "markdown",
   "metadata": {},
   "source": [
    "# 0.Data Visualization - from kaggle\n",
    "\n",
    "-링크: https://www.kaggle.com/learn/data-visualisation\n",
    "\n",
    "## Kaggle 에서 제공하는 Data visualization 학습 코스이며 10개의 코스로 이루어져 있다.\n",
    "\n",
    "1.Welcome to data Visualization\n",
    "\n",
    "- Overview of data visualization tools and course structure.\n",
    "\n",
    "2.Univariate Plotting with Pandas\n",
    "\n",
    "- Learn the basic types of graphs, which are also some of the most important.\n",
    "\n",
    "3.Bivariate Plotting with Pandas\n",
    "\n",
    "- Visually capture the patterns and correlations in any dataset.\n",
    "\n",
    "4.Styling Your Plots\n",
    "\n",
    "- Make your plots look beautiful. This is critical before you share your visualizations.\n",
    "\n",
    "5.Subplots\n",
    "\n",
    "- A key concept to make advanced graphics in Python.\n",
    "\n",
    "6.Plotting with Seaborn\n",
    "\n",
    "- Seaborn makes it easy to create a wide range of complex graphics.\n",
    "\n",
    "7.Faceting with Seaborn\n",
    "\n",
    "- Extend your Seaborn powers to capture more variables and patterns in each graphic.\n",
    "\n",
    "8.Multivariate Plotting\n",
    "\n",
    "- Plotting in high dimensional spaces.\n",
    "\n",
    "9.Plotting with Plotly\n",
    "\n",
    "- Go from static graphics to interactive data visualization experiences.\n",
    "\n",
    "10.Grammar of Graphics with Plotnine\n",
    "\n",
    "- This Python implementation of R's ggplot2 library provides an incredible level of power for custom graphics.\n"
   ]
  },
  {
   "cell_type": "markdown",
   "metadata": {},
   "source": [
    "# 문서 정의\n",
    "- 원문의 다양한 설명은 제외하고, 실습부분만 모아둘 예정\n",
    "- 데이터는 ../data/ 폴더에 넣어둔다.\n",
    "\n",
    "## 윈도우에서 설치 사항\n",
    "\n",
    "1. 파이썬 3.x 구글링해서 설치\n",
    "\t- PATH 도 추가해주자\n",
    "\t- pip3 도 자동으로 깔리게 된다\n",
    "2. pip3 install jupyter \n",
    "\t- 설치 완료\n",
    "\t- jupyter notebook 이라고 치면 실행됨\n",
    "3. 아예  jupyterlab 까지 설치하자\n",
    "\n",
    "\tpip3 install jupyterlab\n",
    "\tjupyter serverextension enable --py jupyterlab --sys-prefix\n",
    "    \n",
    "4. 커맨드 창에서 실행하는 법\n",
    "\n",
    "\t1) 주피터의 경우\n",
    "\t\tjupyter notebook\n",
    "\t2) 주피터랩의 경우\n",
    "\t\tjupyter lab\n",
    "\n",
    "## 라이브러리 설치\n",
    "\n",
    "- pip3 install pandas\n",
    "- pip3 install seaborn\n",
    "- pip3 install matplotlib\n",
    "\n",
    "\n",
    "그럼 본격적으로 시작해보자"
   ]
  },
  {
   "cell_type": "markdown",
   "metadata": {},
   "source": [
    "# 1. Welcome to data Visualization\n",
    "- 간단한 설명이 전부이다. \n",
    "- 링크: https://www.kaggle.com/residentmario/welcome-to-data-visualization/"
   ]
  }
 ],
 "metadata": {
  "kernelspec": {
   "display_name": "Python 3",
   "language": "python",
   "name": "python3"
  },
  "language_info": {
   "codemirror_mode": {
    "name": "ipython",
    "version": 3
   },
   "file_extension": ".py",
   "mimetype": "text/x-python",
   "name": "python",
   "nbconvert_exporter": "python",
   "pygments_lexer": "ipython3",
   "version": "3.6.4"
  }
 },
 "nbformat": 4,
 "nbformat_minor": 2
}
